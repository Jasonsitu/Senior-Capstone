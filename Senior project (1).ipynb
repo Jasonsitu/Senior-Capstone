{
 "cells": [
  {
   "cell_type": "code",
   "execution_count": 209,
   "metadata": {},
   "outputs": [],
   "source": [
    "import pandas as pd\n",
    "import numpy as np"
   ]
  },
  {
   "cell_type": "code",
   "execution_count": 210,
   "metadata": {},
   "outputs": [
    {
     "data": {
      "text/html": [
       "<div>\n",
       "<style scoped>\n",
       "    .dataframe tbody tr th:only-of-type {\n",
       "        vertical-align: middle;\n",
       "    }\n",
       "\n",
       "    .dataframe tbody tr th {\n",
       "        vertical-align: top;\n",
       "    }\n",
       "\n",
       "    .dataframe thead th {\n",
       "        text-align: right;\n",
       "    }\n",
       "</style>\n",
       "<table border=\"1\" class=\"dataframe\">\n",
       "  <thead>\n",
       "    <tr style=\"text-align: right;\">\n",
       "      <th></th>\n",
       "      <th>PRICE</th>\n",
       "      <th>PROPERTY_TYPE</th>\n",
       "      <th>ADDRESS</th>\n",
       "      <th>LOCATION</th>\n",
       "      <th>BEDS</th>\n",
       "      <th>BATHS</th>\n",
       "      <th>SQUARE FEET</th>\n",
       "      <th>LOT SIZE</th>\n",
       "      <th>YEAR BUILT</th>\n",
       "      <th>DAYS ON MARKET</th>\n",
       "      <th>$/SQUARE FEET</th>\n",
       "      <th>HOA/MONTH</th>\n",
       "    </tr>\n",
       "  </thead>\n",
       "  <tbody>\n",
       "    <tr>\n",
       "      <th>0</th>\n",
       "      <td>753000.0</td>\n",
       "      <td>Townhouse</td>\n",
       "      <td>641 Centre Ct</td>\n",
       "      <td>Harbor Bay</td>\n",
       "      <td>3.0</td>\n",
       "      <td>2.5</td>\n",
       "      <td>1720.0</td>\n",
       "      <td>61855.0</td>\n",
       "      <td>1985.0</td>\n",
       "      <td>238.0</td>\n",
       "      <td>438.0</td>\n",
       "      <td>581.0</td>\n",
       "    </tr>\n",
       "    <tr>\n",
       "      <th>1</th>\n",
       "      <td>1220000.0</td>\n",
       "      <td>Single Family Residential</td>\n",
       "      <td>201 Capetown Dr</td>\n",
       "      <td>Alameda</td>\n",
       "      <td>4.0</td>\n",
       "      <td>2.5</td>\n",
       "      <td>2315.0</td>\n",
       "      <td>4936.0</td>\n",
       "      <td>1984.0</td>\n",
       "      <td>265.0</td>\n",
       "      <td>527.0</td>\n",
       "      <td>222.0</td>\n",
       "    </tr>\n",
       "    <tr>\n",
       "      <th>2</th>\n",
       "      <td>1325000.0</td>\n",
       "      <td>Single Family Residential</td>\n",
       "      <td>419 Dewitt Ln</td>\n",
       "      <td>Alameda Point</td>\n",
       "      <td>5.0</td>\n",
       "      <td>3.5</td>\n",
       "      <td>3336.0</td>\n",
       "      <td>3065.0</td>\n",
       "      <td>2016.0</td>\n",
       "      <td>76.0</td>\n",
       "      <td>397.0</td>\n",
       "      <td>150.0</td>\n",
       "    </tr>\n",
       "    <tr>\n",
       "      <th>3</th>\n",
       "      <td>1285000.0</td>\n",
       "      <td>Single Family Residential</td>\n",
       "      <td>238 Hollister Ave</td>\n",
       "      <td>Bay Port</td>\n",
       "      <td>4.0</td>\n",
       "      <td>3.0</td>\n",
       "      <td>2361.0</td>\n",
       "      <td>3462.0</td>\n",
       "      <td>2005.0</td>\n",
       "      <td>257.0</td>\n",
       "      <td>544.0</td>\n",
       "      <td>142.0</td>\n",
       "    </tr>\n",
       "    <tr>\n",
       "      <th>4</th>\n",
       "      <td>895000.0</td>\n",
       "      <td>Condo/Co-op</td>\n",
       "      <td>2737 5th St</td>\n",
       "      <td>Alameda</td>\n",
       "      <td>3.0</td>\n",
       "      <td>3.5</td>\n",
       "      <td>1987.0</td>\n",
       "      <td>NaN</td>\n",
       "      <td>2016.0</td>\n",
       "      <td>39.0</td>\n",
       "      <td>450.0</td>\n",
       "      <td>300.0</td>\n",
       "    </tr>\n",
       "  </tbody>\n",
       "</table>\n",
       "</div>"
      ],
      "text/plain": [
       "       PRICE              PROPERTY_TYPE            ADDRESS       LOCATION  \\\n",
       "0   753000.0                  Townhouse      641 Centre Ct     Harbor Bay   \n",
       "1  1220000.0  Single Family Residential    201 Capetown Dr        Alameda   \n",
       "2  1325000.0  Single Family Residential      419 Dewitt Ln  Alameda Point   \n",
       "3  1285000.0  Single Family Residential  238 Hollister Ave       Bay Port   \n",
       "4   895000.0                Condo/Co-op        2737 5th St        Alameda   \n",
       "\n",
       "   BEDS  BATHS  SQUARE FEET  LOT SIZE  YEAR BUILT  DAYS ON MARKET  \\\n",
       "0   3.0    2.5       1720.0   61855.0      1985.0           238.0   \n",
       "1   4.0    2.5       2315.0    4936.0      1984.0           265.0   \n",
       "2   5.0    3.5       3336.0    3065.0      2016.0            76.0   \n",
       "3   4.0    3.0       2361.0    3462.0      2005.0           257.0   \n",
       "4   3.0    3.5       1987.0       NaN      2016.0            39.0   \n",
       "\n",
       "   $/SQUARE FEET  HOA/MONTH  \n",
       "0          438.0      581.0  \n",
       "1          527.0      222.0  \n",
       "2          397.0      150.0  \n",
       "3          544.0      142.0  \n",
       "4          450.0      300.0  "
      ]
     },
     "execution_count": 210,
     "metadata": {},
     "output_type": "execute_result"
    }
   ],
   "source": [
    "eastbay = pd.read_csv('Master_file.csv')\n",
    "eastbay.head()"
   ]
  },
  {
   "cell_type": "code",
   "execution_count": 211,
   "metadata": {},
   "outputs": [
    {
     "name": "stdout",
     "output_type": "stream",
     "text": [
      "<class 'pandas.core.frame.DataFrame'>\n",
      "RangeIndex: 1050 entries, 0 to 1049\n",
      "Data columns (total 12 columns):\n",
      "PRICE             1049 non-null float64\n",
      "PROPERTY_TYPE     1050 non-null object\n",
      "ADDRESS           1048 non-null object\n",
      "LOCATION          951 non-null object\n",
      "BEDS              1020 non-null float64\n",
      "BATHS             1017 non-null float64\n",
      "SQUARE FEET       1021 non-null float64\n",
      "LOT SIZE          914 non-null float64\n",
      "YEAR BUILT        1014 non-null float64\n",
      "DAYS ON MARKET    951 non-null float64\n",
      "$/SQUARE FEET     1020 non-null float64\n",
      "HOA/MONTH         300 non-null float64\n",
      "dtypes: float64(9), object(3)\n",
      "memory usage: 98.5+ KB\n"
     ]
    },
    {
     "data": {
      "text/html": [
       "<div>\n",
       "<style scoped>\n",
       "    .dataframe tbody tr th:only-of-type {\n",
       "        vertical-align: middle;\n",
       "    }\n",
       "\n",
       "    .dataframe tbody tr th {\n",
       "        vertical-align: top;\n",
       "    }\n",
       "\n",
       "    .dataframe thead th {\n",
       "        text-align: right;\n",
       "    }\n",
       "</style>\n",
       "<table border=\"1\" class=\"dataframe\">\n",
       "  <thead>\n",
       "    <tr style=\"text-align: right;\">\n",
       "      <th></th>\n",
       "      <th>PRICE</th>\n",
       "      <th>BEDS</th>\n",
       "      <th>BATHS</th>\n",
       "      <th>SQUARE FEET</th>\n",
       "      <th>LOT SIZE</th>\n",
       "      <th>YEAR BUILT</th>\n",
       "      <th>DAYS ON MARKET</th>\n",
       "      <th>$/SQUARE FEET</th>\n",
       "      <th>HOA/MONTH</th>\n",
       "    </tr>\n",
       "  </thead>\n",
       "  <tbody>\n",
       "    <tr>\n",
       "      <th>count</th>\n",
       "      <td>1.049000e+03</td>\n",
       "      <td>1020.000000</td>\n",
       "      <td>1017.000000</td>\n",
       "      <td>1021.000000</td>\n",
       "      <td>914.000000</td>\n",
       "      <td>1014.000000</td>\n",
       "      <td>951.000000</td>\n",
       "      <td>1020.000000</td>\n",
       "      <td>300.000000</td>\n",
       "    </tr>\n",
       "    <tr>\n",
       "      <th>mean</th>\n",
       "      <td>1.074497e+06</td>\n",
       "      <td>3.048039</td>\n",
       "      <td>2.228614</td>\n",
       "      <td>1828.637610</td>\n",
       "      <td>8828.964989</td>\n",
       "      <td>1946.005917</td>\n",
       "      <td>206.497371</td>\n",
       "      <td>645.848039</td>\n",
       "      <td>342.163333</td>\n",
       "    </tr>\n",
       "    <tr>\n",
       "      <th>std</th>\n",
       "      <td>5.660557e+05</td>\n",
       "      <td>1.883935</td>\n",
       "      <td>1.914826</td>\n",
       "      <td>1295.366349</td>\n",
       "      <td>27148.100899</td>\n",
       "      <td>33.586592</td>\n",
       "      <td>90.153295</td>\n",
       "      <td>215.219566</td>\n",
       "      <td>189.407958</td>\n",
       "    </tr>\n",
       "    <tr>\n",
       "      <th>min</th>\n",
       "      <td>3.250000e+04</td>\n",
       "      <td>0.000000</td>\n",
       "      <td>1.000000</td>\n",
       "      <td>426.000000</td>\n",
       "      <td>5.000000</td>\n",
       "      <td>1877.000000</td>\n",
       "      <td>4.000000</td>\n",
       "      <td>68.000000</td>\n",
       "      <td>0.000000</td>\n",
       "    </tr>\n",
       "    <tr>\n",
       "      <th>25%</th>\n",
       "      <td>7.250000e+05</td>\n",
       "      <td>2.000000</td>\n",
       "      <td>1.000000</td>\n",
       "      <td>1150.000000</td>\n",
       "      <td>3638.500000</td>\n",
       "      <td>1921.000000</td>\n",
       "      <td>138.000000</td>\n",
       "      <td>511.000000</td>\n",
       "      <td>191.500000</td>\n",
       "    </tr>\n",
       "    <tr>\n",
       "      <th>50%</th>\n",
       "      <td>9.600000e+05</td>\n",
       "      <td>3.000000</td>\n",
       "      <td>2.000000</td>\n",
       "      <td>1557.000000</td>\n",
       "      <td>4800.000000</td>\n",
       "      <td>1939.000000</td>\n",
       "      <td>209.000000</td>\n",
       "      <td>624.000000</td>\n",
       "      <td>350.000000</td>\n",
       "    </tr>\n",
       "    <tr>\n",
       "      <th>75%</th>\n",
       "      <td>1.307000e+06</td>\n",
       "      <td>4.000000</td>\n",
       "      <td>2.500000</td>\n",
       "      <td>2146.000000</td>\n",
       "      <td>6300.000000</td>\n",
       "      <td>1971.000000</td>\n",
       "      <td>284.000000</td>\n",
       "      <td>769.000000</td>\n",
       "      <td>450.000000</td>\n",
       "    </tr>\n",
       "    <tr>\n",
       "      <th>max</th>\n",
       "      <td>6.413000e+06</td>\n",
       "      <td>30.000000</td>\n",
       "      <td>37.000000</td>\n",
       "      <td>21214.000000</td>\n",
       "      <td>403366.000000</td>\n",
       "      <td>2018.000000</td>\n",
       "      <td>364.000000</td>\n",
       "      <td>2550.000000</td>\n",
       "      <td>1404.000000</td>\n",
       "    </tr>\n",
       "  </tbody>\n",
       "</table>\n",
       "</div>"
      ],
      "text/plain": [
       "              PRICE         BEDS        BATHS   SQUARE FEET       LOT SIZE  \\\n",
       "count  1.049000e+03  1020.000000  1017.000000   1021.000000     914.000000   \n",
       "mean   1.074497e+06     3.048039     2.228614   1828.637610    8828.964989   \n",
       "std    5.660557e+05     1.883935     1.914826   1295.366349   27148.100899   \n",
       "min    3.250000e+04     0.000000     1.000000    426.000000       5.000000   \n",
       "25%    7.250000e+05     2.000000     1.000000   1150.000000    3638.500000   \n",
       "50%    9.600000e+05     3.000000     2.000000   1557.000000    4800.000000   \n",
       "75%    1.307000e+06     4.000000     2.500000   2146.000000    6300.000000   \n",
       "max    6.413000e+06    30.000000    37.000000  21214.000000  403366.000000   \n",
       "\n",
       "        YEAR BUILT  DAYS ON MARKET  $/SQUARE FEET    HOA/MONTH  \n",
       "count  1014.000000      951.000000    1020.000000   300.000000  \n",
       "mean   1946.005917      206.497371     645.848039   342.163333  \n",
       "std      33.586592       90.153295     215.219566   189.407958  \n",
       "min    1877.000000        4.000000      68.000000     0.000000  \n",
       "25%    1921.000000      138.000000     511.000000   191.500000  \n",
       "50%    1939.000000      209.000000     624.000000   350.000000  \n",
       "75%    1971.000000      284.000000     769.000000   450.000000  \n",
       "max    2018.000000      364.000000    2550.000000  1404.000000  "
      ]
     },
     "execution_count": 211,
     "metadata": {},
     "output_type": "execute_result"
    }
   ],
   "source": [
    "eastbay.info()\n",
    "eastbay.describe()"
   ]
  },
  {
   "cell_type": "code",
   "execution_count": 212,
   "metadata": {},
   "outputs": [
    {
     "data": {
      "image/png": "[encoded data removed]",
      "text/plain": [
       "<Figure size 1440x1080 with 9 Axes>"
      ]
     },
     "metadata": {},
     "output_type": "display_data"
    }
   ],
   "source": [
    "%matplotlib inline\n",
    "\n",
    "import matplotlib.pyplot as plt\n",
    "\n",
    "eastbay.hist(bins=50, figsize=(20,15))\n",
    "\n",
    "plt.savefig(\"attribute_historgram_plots\")\n",
    "\n",
    "plt.show()"
   ]
  },
  {
   "cell_type": "code",
   "execution_count": 213,
   "metadata": {},
   "outputs": [
    {
     "data": {
      "text/plain": [
       "PRICE             1.000000\n",
       "SQUARE FEET       0.761169\n",
       "BATHS             0.640044\n",
       "BEDS              0.591052\n",
       "$/SQUARE FEET     0.191574\n",
       "DAYS ON MARKET    0.010668\n",
       "LOT SIZE         -0.049435\n",
       "YEAR BUILT       -0.112522\n",
       "HOA/MONTH        -0.423179\n",
       "Name: PRICE, dtype: float64"
      ]
     },
     "execution_count": 213,
     "metadata": {},
     "output_type": "execute_result"
    }
   ],
   "source": [
    "corr_matrix = eastbay.corr()\n",
    "corr_matrix[\"PRICE\"].sort_values(ascending=False)"
   ]
  },
  {
   "cell_type": "code",
   "execution_count": 214,
   "metadata": {},
   "outputs": [
    {
     "data": {
      "image/png": "[encoded data removed]",
      "text/plain": [
       "<Figure size 720x432 with 16 Axes>"
      ]
     },
     "metadata": {},
     "output_type": "display_data"
    }
   ],
   "source": [
    "from pandas.plotting import scatter_matrix\n",
    "attributes= [\"PRICE\",\"SQUARE FEET\",\"BATHS\",\"BEDS\"]\n",
    "scatter_matrix(eastbay[attributes],figsize=(10,6))\n",
    "plt.savefig('matrix.png')"
   ]
  },
  {
   "cell_type": "code",
   "execution_count": 215,
   "metadata": {},
   "outputs": [
    {
     "data": {
      "image/png": "[encoded data removed]",
      "text/plain": [
       "<Figure size 432x288 with 1 Axes>"
      ]
     },
     "metadata": {},
     "output_type": "display_data"
    }
   ],
   "source": [
    "eastbay.plot(kind=\"scatter\", x=\"SQUARE FEET\", y =\"PRICE\", alpha=0.5)\n",
    "plt.savefig('scatter.png')"
   ]
  },
  {
   "cell_type": "code",
   "execution_count": 216,
   "metadata": {},
   "outputs": [
    {
     "data": {
      "text/plain": [
       "1050"
      ]
     },
     "execution_count": 216,
     "metadata": {},
     "output_type": "execute_result"
    }
   ],
   "source": [
    "len(eastbay)"
   ]
  },
  {
   "cell_type": "code",
   "execution_count": 217,
   "metadata": {},
   "outputs": [
    {
     "data": {
      "text/html": [
       "<div>\n",
       "<style scoped>\n",
       "    .dataframe tbody tr th:only-of-type {\n",
       "        vertical-align: middle;\n",
       "    }\n",
       "\n",
       "    .dataframe tbody tr th {\n",
       "        vertical-align: top;\n",
       "    }\n",
       "\n",
       "    .dataframe thead th {\n",
       "        text-align: right;\n",
       "    }\n",
       "</style>\n",
       "<table border=\"1\" class=\"dataframe\">\n",
       "  <thead>\n",
       "    <tr style=\"text-align: right;\">\n",
       "      <th></th>\n",
       "      <th>PRICE</th>\n",
       "      <th>PROPERTY_TYPE</th>\n",
       "      <th>ADDRESS</th>\n",
       "      <th>LOCATION</th>\n",
       "      <th>BEDS</th>\n",
       "      <th>BATHS</th>\n",
       "      <th>SQUARE FEET</th>\n",
       "      <th>LOT SIZE</th>\n",
       "      <th>YEAR BUILT</th>\n",
       "      <th>DAYS ON MARKET</th>\n",
       "      <th>$/SQUARE FEET</th>\n",
       "      <th>HOA/MONTH</th>\n",
       "    </tr>\n",
       "  </thead>\n",
       "  <tbody>\n",
       "    <tr>\n",
       "      <th>0</th>\n",
       "      <td>753000.0</td>\n",
       "      <td>Townhouse</td>\n",
       "      <td>641 Centre Ct</td>\n",
       "      <td>Harbor Bay</td>\n",
       "      <td>3.0</td>\n",
       "      <td>2.5</td>\n",
       "      <td>1720.0</td>\n",
       "      <td>61855.0</td>\n",
       "      <td>1985.0</td>\n",
       "      <td>238.0</td>\n",
       "      <td>438.0</td>\n",
       "      <td>581.0</td>\n",
       "    </tr>\n",
       "    <tr>\n",
       "      <th>1</th>\n",
       "      <td>1220000.0</td>\n",
       "      <td>Single Family Residential</td>\n",
       "      <td>201 Capetown Dr</td>\n",
       "      <td>Alameda</td>\n",
       "      <td>4.0</td>\n",
       "      <td>2.5</td>\n",
       "      <td>2315.0</td>\n",
       "      <td>4936.0</td>\n",
       "      <td>1984.0</td>\n",
       "      <td>265.0</td>\n",
       "      <td>527.0</td>\n",
       "      <td>222.0</td>\n",
       "    </tr>\n",
       "    <tr>\n",
       "      <th>2</th>\n",
       "      <td>1325000.0</td>\n",
       "      <td>Single Family Residential</td>\n",
       "      <td>419 Dewitt Ln</td>\n",
       "      <td>Alameda Point</td>\n",
       "      <td>5.0</td>\n",
       "      <td>3.5</td>\n",
       "      <td>3336.0</td>\n",
       "      <td>3065.0</td>\n",
       "      <td>2016.0</td>\n",
       "      <td>76.0</td>\n",
       "      <td>397.0</td>\n",
       "      <td>150.0</td>\n",
       "    </tr>\n",
       "    <tr>\n",
       "      <th>3</th>\n",
       "      <td>1285000.0</td>\n",
       "      <td>Single Family Residential</td>\n",
       "      <td>238 Hollister Ave</td>\n",
       "      <td>Bay Port</td>\n",
       "      <td>4.0</td>\n",
       "      <td>3.0</td>\n",
       "      <td>2361.0</td>\n",
       "      <td>3462.0</td>\n",
       "      <td>2005.0</td>\n",
       "      <td>257.0</td>\n",
       "      <td>544.0</td>\n",
       "      <td>142.0</td>\n",
       "    </tr>\n",
       "    <tr>\n",
       "      <th>4</th>\n",
       "      <td>895000.0</td>\n",
       "      <td>Condo/Co-op</td>\n",
       "      <td>2737 5th St</td>\n",
       "      <td>Alameda</td>\n",
       "      <td>3.0</td>\n",
       "      <td>3.5</td>\n",
       "      <td>1987.0</td>\n",
       "      <td>NaN</td>\n",
       "      <td>2016.0</td>\n",
       "      <td>39.0</td>\n",
       "      <td>450.0</td>\n",
       "      <td>300.0</td>\n",
       "    </tr>\n",
       "  </tbody>\n",
       "</table>\n",
       "</div>"
      ],
      "text/plain": [
       "       PRICE              PROPERTY_TYPE            ADDRESS       LOCATION  \\\n",
       "0   753000.0                  Townhouse      641 Centre Ct     Harbor Bay   \n",
       "1  1220000.0  Single Family Residential    201 Capetown Dr        Alameda   \n",
       "2  1325000.0  Single Family Residential      419 Dewitt Ln  Alameda Point   \n",
       "3  1285000.0  Single Family Residential  238 Hollister Ave       Bay Port   \n",
       "4   895000.0                Condo/Co-op        2737 5th St        Alameda   \n",
       "\n",
       "   BEDS  BATHS  SQUARE FEET  LOT SIZE  YEAR BUILT  DAYS ON MARKET  \\\n",
       "0   3.0    2.5       1720.0   61855.0      1985.0           238.0   \n",
       "1   4.0    2.5       2315.0    4936.0      1984.0           265.0   \n",
       "2   5.0    3.5       3336.0    3065.0      2016.0            76.0   \n",
       "3   4.0    3.0       2361.0    3462.0      2005.0           257.0   \n",
       "4   3.0    3.5       1987.0       NaN      2016.0            39.0   \n",
       "\n",
       "   $/SQUARE FEET  HOA/MONTH  \n",
       "0          438.0      581.0  \n",
       "1          527.0      222.0  \n",
       "2          397.0      150.0  \n",
       "3          544.0      142.0  \n",
       "4          450.0      300.0  "
      ]
     },
     "execution_count": 217,
     "metadata": {},
     "output_type": "execute_result"
    }
   ],
   "source": [
    "eastbay = eastbay.drop(eastbay[eastbay['PROPERTY_TYPE'] == \"Vacant Land\"].index)\n",
    "eastbay.head()"
   ]
  },
  {
   "cell_type": "code",
   "execution_count": 218,
   "metadata": {},
   "outputs": [
    {
     "data": {
      "text/html": [
       "<div>\n",
       "<style scoped>\n",
       "    .dataframe tbody tr th:only-of-type {\n",
       "        vertical-align: middle;\n",
       "    }\n",
       "\n",
       "    .dataframe tbody tr th {\n",
       "        vertical-align: top;\n",
       "    }\n",
       "\n",
       "    .dataframe thead th {\n",
       "        text-align: right;\n",
       "    }\n",
       "</style>\n",
       "<table border=\"1\" class=\"dataframe\">\n",
       "  <thead>\n",
       "    <tr style=\"text-align: right;\">\n",
       "      <th></th>\n",
       "      <th>PRICE</th>\n",
       "      <th>PROPERTY_TYPE</th>\n",
       "      <th>BEDS</th>\n",
       "      <th>BATHS</th>\n",
       "      <th>SQUARE FEET</th>\n",
       "      <th>LOT SIZE</th>\n",
       "      <th>YEAR BUILT</th>\n",
       "      <th>DAYS ON MARKET</th>\n",
       "      <th>$/SQUARE FEET</th>\n",
       "    </tr>\n",
       "  </thead>\n",
       "  <tbody>\n",
       "    <tr>\n",
       "      <th>0</th>\n",
       "      <td>753000.0</td>\n",
       "      <td>Townhouse</td>\n",
       "      <td>3.0</td>\n",
       "      <td>2.5</td>\n",
       "      <td>1720.0</td>\n",
       "      <td>61855.0</td>\n",
       "      <td>1985.0</td>\n",
       "      <td>238.0</td>\n",
       "      <td>438.0</td>\n",
       "    </tr>\n",
       "    <tr>\n",
       "      <th>1</th>\n",
       "      <td>1220000.0</td>\n",
       "      <td>Single Family Residential</td>\n",
       "      <td>4.0</td>\n",
       "      <td>2.5</td>\n",
       "      <td>2315.0</td>\n",
       "      <td>4936.0</td>\n",
       "      <td>1984.0</td>\n",
       "      <td>265.0</td>\n",
       "      <td>527.0</td>\n",
       "    </tr>\n",
       "    <tr>\n",
       "      <th>2</th>\n",
       "      <td>1325000.0</td>\n",
       "      <td>Single Family Residential</td>\n",
       "      <td>5.0</td>\n",
       "      <td>3.5</td>\n",
       "      <td>3336.0</td>\n",
       "      <td>3065.0</td>\n",
       "      <td>2016.0</td>\n",
       "      <td>76.0</td>\n",
       "      <td>397.0</td>\n",
       "    </tr>\n",
       "    <tr>\n",
       "      <th>3</th>\n",
       "      <td>1285000.0</td>\n",
       "      <td>Single Family Residential</td>\n",
       "      <td>4.0</td>\n",
       "      <td>3.0</td>\n",
       "      <td>2361.0</td>\n",
       "      <td>3462.0</td>\n",
       "      <td>2005.0</td>\n",
       "      <td>257.0</td>\n",
       "      <td>544.0</td>\n",
       "    </tr>\n",
       "    <tr>\n",
       "      <th>4</th>\n",
       "      <td>895000.0</td>\n",
       "      <td>Condo/Co-op</td>\n",
       "      <td>3.0</td>\n",
       "      <td>3.5</td>\n",
       "      <td>1987.0</td>\n",
       "      <td>NaN</td>\n",
       "      <td>2016.0</td>\n",
       "      <td>39.0</td>\n",
       "      <td>450.0</td>\n",
       "    </tr>\n",
       "  </tbody>\n",
       "</table>\n",
       "</div>"
      ],
      "text/plain": [
       "       PRICE              PROPERTY_TYPE  BEDS  BATHS  SQUARE FEET  LOT SIZE  \\\n",
       "0   753000.0                  Townhouse   3.0    2.5       1720.0   61855.0   \n",
       "1  1220000.0  Single Family Residential   4.0    2.5       2315.0    4936.0   \n",
       "2  1325000.0  Single Family Residential   5.0    3.5       3336.0    3065.0   \n",
       "3  1285000.0  Single Family Residential   4.0    3.0       2361.0    3462.0   \n",
       "4   895000.0                Condo/Co-op   3.0    3.5       1987.0       NaN   \n",
       "\n",
       "   YEAR BUILT  DAYS ON MARKET  $/SQUARE FEET  \n",
       "0      1985.0           238.0          438.0  \n",
       "1      1984.0           265.0          527.0  \n",
       "2      2016.0            76.0          397.0  \n",
       "3      2005.0           257.0          544.0  \n",
       "4      2016.0            39.0          450.0  "
      ]
     },
     "execution_count": 218,
     "metadata": {},
     "output_type": "execute_result"
    }
   ],
   "source": [
    "eastbay.drop(eastbay.columns[[2,3,11]], axis=1, inplace=True)\n",
    "eastbay.head()"
   ]
  },
  {
   "cell_type": "code",
   "execution_count": 219,
   "metadata": {},
   "outputs": [],
   "source": [
    "eastbay= eastbay.dropna()"
   ]
  },
  {
   "cell_type": "code",
   "execution_count": 220,
   "metadata": {},
   "outputs": [
    {
     "data": {
      "text/plain": [
       "PRICE             0\n",
       "PROPERTY_TYPE     0\n",
       "BEDS              0\n",
       "BATHS             0\n",
       "SQUARE FEET       0\n",
       "LOT SIZE          0\n",
       "YEAR BUILT        0\n",
       "DAYS ON MARKET    0\n",
       "$/SQUARE FEET     0\n",
       "dtype: int64"
      ]
     },
     "execution_count": 220,
     "metadata": {},
     "output_type": "execute_result"
    }
   ],
   "source": [
    "eastbay.isnull().sum()"
   ]
  },
  {
   "cell_type": "code",
   "execution_count": 221,
   "metadata": {},
   "outputs": [
    {
     "data": {
      "text/plain": [
       "812"
      ]
     },
     "execution_count": 221,
     "metadata": {},
     "output_type": "execute_result"
    }
   ],
   "source": [
    "len(eastbay)"
   ]
  },
  {
   "cell_type": "code",
   "execution_count": 222,
   "metadata": {},
   "outputs": [
    {
     "data": {
      "text/html": [
       "<div>\n",
       "<style scoped>\n",
       "    .dataframe tbody tr th:only-of-type {\n",
       "        vertical-align: middle;\n",
       "    }\n",
       "\n",
       "    .dataframe tbody tr th {\n",
       "        vertical-align: top;\n",
       "    }\n",
       "\n",
       "    .dataframe thead th {\n",
       "        text-align: right;\n",
       "    }\n",
       "</style>\n",
       "<table border=\"1\" class=\"dataframe\">\n",
       "  <thead>\n",
       "    <tr style=\"text-align: right;\">\n",
       "      <th></th>\n",
       "      <th>BEDS</th>\n",
       "      <th>BATHS</th>\n",
       "      <th>SQUARE FEET</th>\n",
       "      <th>LOT SIZE</th>\n",
       "      <th>YEAR BUILT</th>\n",
       "      <th>DAYS ON MARKET</th>\n",
       "      <th>$/SQUARE FEET</th>\n",
       "      <th>Condo/Co-op</th>\n",
       "      <th>Multi-Family (2-4 Unit)</th>\n",
       "      <th>Single Family Residential</th>\n",
       "      <th>Townhouse</th>\n",
       "    </tr>\n",
       "  </thead>\n",
       "  <tbody>\n",
       "    <tr>\n",
       "      <th>0</th>\n",
       "      <td>3.0</td>\n",
       "      <td>2.5</td>\n",
       "      <td>1720.0</td>\n",
       "      <td>61855.0</td>\n",
       "      <td>1985.0</td>\n",
       "      <td>238.0</td>\n",
       "      <td>438.0</td>\n",
       "      <td>0</td>\n",
       "      <td>0</td>\n",
       "      <td>0</td>\n",
       "      <td>1</td>\n",
       "    </tr>\n",
       "    <tr>\n",
       "      <th>1</th>\n",
       "      <td>4.0</td>\n",
       "      <td>2.5</td>\n",
       "      <td>2315.0</td>\n",
       "      <td>4936.0</td>\n",
       "      <td>1984.0</td>\n",
       "      <td>265.0</td>\n",
       "      <td>527.0</td>\n",
       "      <td>0</td>\n",
       "      <td>0</td>\n",
       "      <td>1</td>\n",
       "      <td>0</td>\n",
       "    </tr>\n",
       "    <tr>\n",
       "      <th>2</th>\n",
       "      <td>5.0</td>\n",
       "      <td>3.5</td>\n",
       "      <td>3336.0</td>\n",
       "      <td>3065.0</td>\n",
       "      <td>2016.0</td>\n",
       "      <td>76.0</td>\n",
       "      <td>397.0</td>\n",
       "      <td>0</td>\n",
       "      <td>0</td>\n",
       "      <td>1</td>\n",
       "      <td>0</td>\n",
       "    </tr>\n",
       "    <tr>\n",
       "      <th>3</th>\n",
       "      <td>4.0</td>\n",
       "      <td>3.0</td>\n",
       "      <td>2361.0</td>\n",
       "      <td>3462.0</td>\n",
       "      <td>2005.0</td>\n",
       "      <td>257.0</td>\n",
       "      <td>544.0</td>\n",
       "      <td>0</td>\n",
       "      <td>0</td>\n",
       "      <td>1</td>\n",
       "      <td>0</td>\n",
       "    </tr>\n",
       "    <tr>\n",
       "      <th>5</th>\n",
       "      <td>3.0</td>\n",
       "      <td>1.0</td>\n",
       "      <td>1072.0</td>\n",
       "      <td>3250.0</td>\n",
       "      <td>1914.0</td>\n",
       "      <td>169.0</td>\n",
       "      <td>700.0</td>\n",
       "      <td>0</td>\n",
       "      <td>0</td>\n",
       "      <td>1</td>\n",
       "      <td>0</td>\n",
       "    </tr>\n",
       "  </tbody>\n",
       "</table>\n",
       "</div>"
      ],
      "text/plain": [
       "   BEDS  BATHS  SQUARE FEET  LOT SIZE  YEAR BUILT  DAYS ON MARKET  \\\n",
       "0   3.0    2.5       1720.0   61855.0      1985.0           238.0   \n",
       "1   4.0    2.5       2315.0    4936.0      1984.0           265.0   \n",
       "2   5.0    3.5       3336.0    3065.0      2016.0            76.0   \n",
       "3   4.0    3.0       2361.0    3462.0      2005.0           257.0   \n",
       "5   3.0    1.0       1072.0    3250.0      1914.0           169.0   \n",
       "\n",
       "   $/SQUARE FEET  Condo/Co-op  Multi-Family (2-4 Unit)  \\\n",
       "0          438.0            0                        0   \n",
       "1          527.0            0                        0   \n",
       "2          397.0            0                        0   \n",
       "3          544.0            0                        0   \n",
       "5          700.0            0                        0   \n",
       "\n",
       "   Single Family Residential  Townhouse  \n",
       "0                          0          1  \n",
       "1                          1          0  \n",
       "2                          1          0  \n",
       "3                          1          0  \n",
       "5                          1          0  "
      ]
     },
     "execution_count": 222,
     "metadata": {},
     "output_type": "execute_result"
    }
   ],
   "source": [
    "X = eastbay[['PROPERTY_TYPE','BEDS','BATHS','SQUARE FEET','LOT SIZE','YEAR BUILT','DAYS ON MARKET','$/SQUARE FEET']]\n",
    "Y = eastbay['PRICE']\n",
    "n = pd.get_dummies(eastbay.PROPERTY_TYPE)\n",
    "X = pd.concat([X, n], axis=1)\n",
    "\n",
    "drops = ['PROPERTY_TYPE']\n",
    "X.drop(drops, inplace=True, axis=1)\n",
    "X.head()"
   ]
  },
  {
   "cell_type": "code",
   "execution_count": 223,
   "metadata": {},
   "outputs": [],
   "source": [
    "Y_mean = Y.mean()"
   ]
  },
  {
   "cell_type": "code",
   "execution_count": 224,
   "metadata": {},
   "outputs": [
    {
     "data": {
      "text/html": [
       "<div>\n",
       "<style scoped>\n",
       "    .dataframe tbody tr th:only-of-type {\n",
       "        vertical-align: middle;\n",
       "    }\n",
       "\n",
       "    .dataframe tbody tr th {\n",
       "        vertical-align: top;\n",
       "    }\n",
       "\n",
       "    .dataframe thead th {\n",
       "        text-align: right;\n",
       "    }\n",
       "</style>\n",
       "<table border=\"1\" class=\"dataframe\">\n",
       "  <thead>\n",
       "    <tr style=\"text-align: right;\">\n",
       "      <th></th>\n",
       "      <th>Most Correlated Features</th>\n",
       "    </tr>\n",
       "  </thead>\n",
       "  <tbody>\n",
       "    <tr>\n",
       "      <th>0</th>\n",
       "      <td>PRICE</td>\n",
       "    </tr>\n",
       "    <tr>\n",
       "      <th>1</th>\n",
       "      <td>SQUARE FEET</td>\n",
       "    </tr>\n",
       "    <tr>\n",
       "      <th>2</th>\n",
       "      <td>BATHS</td>\n",
       "    </tr>\n",
       "    <tr>\n",
       "      <th>3</th>\n",
       "      <td>BEDS</td>\n",
       "    </tr>\n",
       "    <tr>\n",
       "      <th>4</th>\n",
       "      <td>$/SQUARE FEET</td>\n",
       "    </tr>\n",
       "    <tr>\n",
       "      <th>5</th>\n",
       "      <td>DAYS ON MARKET</td>\n",
       "    </tr>\n",
       "    <tr>\n",
       "      <th>6</th>\n",
       "      <td>YEAR BUILT</td>\n",
       "    </tr>\n",
       "    <tr>\n",
       "      <th>7</th>\n",
       "      <td>LOT SIZE</td>\n",
       "    </tr>\n",
       "  </tbody>\n",
       "</table>\n",
       "</div>"
      ],
      "text/plain": [
       "  Most Correlated Features\n",
       "0                    PRICE\n",
       "1              SQUARE FEET\n",
       "2                    BATHS\n",
       "3                     BEDS\n",
       "4            $/SQUARE FEET\n",
       "5           DAYS ON MARKET\n",
       "6               YEAR BUILT\n",
       "7                 LOT SIZE"
      ]
     },
     "execution_count": 224,
     "metadata": {},
     "output_type": "execute_result"
    }
   ],
   "source": [
    "corrmat = eastbay.corr()\n",
    "k=8\n",
    "cols = corrmat.nlargest(k, 'PRICE')['PRICE'].index\n",
    "most_corr = pd.DataFrame(cols)\n",
    "most_corr.columns = ['Most Correlated Features']\n",
    "most_corr\n",
    "\n"
   ]
  },
  {
   "cell_type": "code",
   "execution_count": 225,
   "metadata": {},
   "outputs": [
    {
     "data": {
      "image/png": "[encoded data removed]",
      "text/plain": [
       "<Figure size 432x288 with 2 Axes>"
      ]
     },
     "metadata": {},
     "output_type": "display_data"
    }
   ],
   "source": [
    "import seaborn as sns\n",
    "k = 8 #number of variables for heatmap\n",
    "cols = corrmat.nlargest(k, 'PRICE')['PRICE'].index\n",
    "cm = np.corrcoef(eastbay[cols].values.T)\n",
    "sns.set(font_scale=1.25)\n",
    "hm = sns.heatmap(cm, cbar=True, annot=True, square=True, fmt='.2f', annot_kws={'size': 10}, yticklabels=cols.values, xticklabels=cols.values)\n",
    "plt.show()"
   ]
  },
  {
   "cell_type": "code",
   "execution_count": 227,
   "metadata": {},
   "outputs": [
    {
     "data": {
      "text/plain": [
       "array([[-0.05858883,  0.39218487, -0.0844128 , ..., -0.27991651,\n",
       "        -1.95789002,  3.86284463],\n",
       "       [ 0.8063954 ,  0.39218487,  0.6306429 , ..., -0.27991651,\n",
       "         0.51075392, -0.25887658],\n",
       "       [ 1.67137962,  1.43118686,  1.85765446, ..., -0.27991651,\n",
       "         0.51075392, -0.25887658],\n",
       "       ...,\n",
       "       [ 1.67137962,  0.91168586,  0.62823935, ...,  3.57249379,\n",
       "        -1.95789002, -0.25887658],\n",
       "       [-0.05858883, -0.12731613, -0.1781512 , ..., -0.27991651,\n",
       "         0.51075392, -0.25887658],\n",
       "       [-0.05858883,  0.39218487,  0.29054078, ..., -0.27991651,\n",
       "        -1.95789002,  3.86284463]])"
      ]
     },
     "execution_count": 227,
     "metadata": {},
     "output_type": "execute_result"
    }
   ],
   "source": [
    "from sklearn.preprocessing import StandardScaler\n",
    "scaler = StandardScaler()\n",
    "X = scaler.fit_transform(X)\n",
    "X"
   ]
  },
  {
   "cell_type": "code",
   "execution_count": 203,
   "metadata": {},
   "outputs": [],
   "source": [
    "from sklearn.cross_validation import train_test_split\n",
    "\n",
    "X_train, X_test, y_train, y_test = train_test_split(X, Y, test_size=0.15, random_state=55)"
   ]
  },
  {
   "cell_type": "code",
   "execution_count": 82,
   "metadata": {},
   "outputs": [
    {
     "data": {
      "text/plain": [
       "0.89271471898302"
      ]
     },
     "execution_count": 82,
     "metadata": {},
     "output_type": "execute_result"
    }
   ],
   "source": [
    "from sklearn.linear_model import LinearRegression\n",
    "regressor = LinearRegression()\n",
    "regressor.fit(X_train, y_train)\n",
    "regressor.score(X_test,y_test)"
   ]
  },
  {
   "cell_type": "code",
   "execution_count": 83,
   "metadata": {},
   "outputs": [
    {
     "data": {
      "text/plain": [
       "0.910055710177011"
      ]
     },
     "execution_count": 83,
     "metadata": {},
     "output_type": "execute_result"
    }
   ],
   "source": [
    "from sklearn.linear_model import LassoCV\n",
    "\n",
    "regressor1 = LassoCV (cv = 5, random_state=0).fit(X_test,y_test)\n",
    "regressor1.score(X_test,y_test)\n"
   ]
  },
  {
   "cell_type": "code",
   "execution_count": 84,
   "metadata": {},
   "outputs": [
    {
     "data": {
      "text/plain": [
       "0.9119090413729471"
      ]
     },
     "execution_count": 84,
     "metadata": {},
     "output_type": "execute_result"
    }
   ],
   "source": [
    "from sklearn.linear_model import RidgeCV\n",
    "regressor2 = RidgeCV(alphas=[1e-3, 1e-2, 1e-1, 1]).fit(X_test, y_test)\n",
    "regressor2.score(X_test, y_test) "
   ]
  },
  {
   "cell_type": "code",
   "execution_count": 85,
   "metadata": {},
   "outputs": [
    {
     "name": "stdout",
     "output_type": "stream",
     "text": [
      "Liner Regression R squared: 0.8927\n"
     ]
    }
   ],
   "source": [
    "y_pred = regressor.predict(X_test)\n",
    "print('Liner Regression R squared: %.4f' % regressor.score(X_test, y_test))"
   ]
  },
  {
   "cell_type": "code",
   "execution_count": 86,
   "metadata": {},
   "outputs": [
    {
     "name": "stdout",
     "output_type": "stream",
     "text": [
      "Liner Regression RMSE: 156666.4290\n"
     ]
    }
   ],
   "source": [
    "import numpy as np\n",
    "from sklearn.metrics import mean_squared_error\n",
    "lin_mse = mean_squared_error(y_pred, y_test)\n",
    "lin_rmse = np.sqrt(lin_mse) \n",
    "\n",
    "print('Liner Regression RMSE: %.4f' % lin_rmse)\n"
   ]
  },
  {
   "cell_type": "code",
   "execution_count": 87,
   "metadata": {},
   "outputs": [
    {
     "name": "stdout",
     "output_type": "stream",
     "text": [
      "Liner Regression MAE: 97655.8856\n"
     ]
    }
   ],
   "source": [
    "from sklearn.metrics import mean_absolute_error\n",
    "lin_mae = mean_absolute_error(y_pred, y_test)\n",
    "print('Liner Regression MAE: %.4f' % lin_mae)"
   ]
  },
  {
   "cell_type": "code",
   "execution_count": 128,
   "metadata": {},
   "outputs": [],
   "source": [
    "x1= [i[0] for i in X_test]"
   ]
  },
  {
   "cell_type": "code",
   "execution_count": 143,
   "metadata": {},
   "outputs": [],
   "source": [
    "y_tru = np.asarray(y_test)\n",
    "y_predict = np.round(y_pred)\n",
    "x_tru = np.asarray(x1)\n"
   ]
  },
  {
   "cell_type": "code",
   "execution_count": 182,
   "metadata": {},
   "outputs": [
    {
     "data": {
      "image/png": "[encoded data removed]",
      "text/plain": [
       "<Figure size 432x288 with 1 Axes>"
      ]
     },
     "metadata": {},
     "output_type": "display_data"
    }
   ],
   "source": [
    "plt.scatter(x_tru,y_test,  color='black')\n",
    "plt.scatter(x_tru,y_predict, color='red')\n",
    "plt.title('Linear regression')\n",
    "plt.ylabel('Price')\n",
    "plt.figtext(.65, .8 ,\"Predicted value = Red\",fontsize=10)\n",
    "plt.figtext(.65, .7, \"True value = Black\",fontsize=10)\n",
    "plt.show()\n"
   ]
  },
  {
   "cell_type": "code",
   "execution_count": 139,
   "metadata": {},
   "outputs": [
    {
     "name": "stdout",
     "output_type": "stream",
     "text": [
      "Random Forest R squared\": 0.9381\n"
     ]
    }
   ],
   "source": [
    "from sklearn.ensemble import RandomForestRegressor\n",
    "forest_reg = RandomForestRegressor(random_state=42)\n",
    "forest_reg.fit(X_train, y_train)\n",
    "print('Random Forest R squared\": %.4f' % forest_reg.score(X_test, y_test))"
   ]
  },
  {
   "cell_type": "code",
   "execution_count": 140,
   "metadata": {},
   "outputs": [
    {
     "name": "stdout",
     "output_type": "stream",
     "text": [
      "Random Forest RMSE: 118956.3070\n"
     ]
    }
   ],
   "source": [
    "y_pred = forest_reg.predict(X_test)\n",
    "\n",
    "forest_mse = mean_squared_error(y_pred, y_test)\n",
    "\n",
    "forest_rmse = np.sqrt(forest_mse)\n",
    "\n",
    "print('Random Forest RMSE: %.4f' % forest_rmse)"
   ]
  },
  {
   "cell_type": "code",
   "execution_count": 209,
   "metadata": {},
   "outputs": [
    {
     "data": {
      "text/plain": [
       "0.044932921440299915"
      ]
     },
     "execution_count": 209,
     "metadata": {},
     "output_type": "execute_result"
    }
   ],
   "source": [
    "y_tru = np.asarray(y_test)\n",
    "y_pre = np.round(y_pred)\n",
    "MAPE =mean_absolute_percentage_error(y_tru,y_pre)\n",
    "MAPE"
   ]
  },
  {
   "cell_type": "code",
   "execution_count": 183,
   "metadata": {},
   "outputs": [
    {
     "data": {
      "image/png": "[encoded data removed]",
      "text/plain": [
       "<Figure size 432x288 with 1 Axes>"
      ]
     },
     "metadata": {},
     "output_type": "display_data"
    }
   ],
   "source": [
    "y_predict = np.round(y_pred)\n",
    "plt.scatter(x_tru,y_test,  color='black')\n",
    "plt.scatter(x_tru,y_predict, color='red')\n",
    "plt.title('Random Forest')\n",
    "plt.ylabel('Price')\n",
    "plt.figtext(.65, .8 ,\"Predicted value = Red\",fontsize=10)\n",
    "plt.figtext(.65, .7, \"True value = Black\",fontsize=10)\n",
    "plt.show()\n"
   ]
  },
  {
   "cell_type": "code",
   "execution_count": 146,
   "metadata": {},
   "outputs": [
    {
     "name": "stdout",
     "output_type": "stream",
     "text": [
      "Gradient Boosting R squared\": 0.9759\n"
     ]
    }
   ],
   "source": [
    "from sklearn import ensemble\n",
    "from sklearn.ensemble import GradientBoostingRegressor\n",
    "model = ensemble.GradientBoostingRegressor()\n",
    "model.fit(X_train, y_train)\n",
    "print('Gradient Boosting R squared\": %.4f' % model.score(X_test, y_test))\n"
   ]
  },
  {
   "cell_type": "code",
   "execution_count": 147,
   "metadata": {},
   "outputs": [
    {
     "name": "stdout",
     "output_type": "stream",
     "text": [
      "Gradient Boosting RMSE: 74268.9805\n"
     ]
    }
   ],
   "source": [
    "y_pred = model.predict(X_test)\n",
    "\n",
    "model_mse = mean_squared_error(y_pred, y_test)\n",
    "\n",
    "model_rmse = np.sqrt(model_mse)\n",
    "\n",
    "print('Gradient Boosting RMSE: %.4f' % model_rmse)"
   ]
  },
  {
   "cell_type": "code",
   "execution_count": 148,
   "metadata": {},
   "outputs": [
    {
     "data": {
      "text/plain": [
       "0.03728367352615958"
      ]
     },
     "execution_count": 148,
     "metadata": {},
     "output_type": "execute_result"
    }
   ],
   "source": [
    "y_tru = np.asarray(y_test)\n",
    "y_pre = np.round(y_pred)\n",
    "MAPE =mean_absolute_percentage_error(y_tru,y_pre)\n",
    "MAPE"
   ]
  },
  {
   "cell_type": "code",
   "execution_count": 184,
   "metadata": {},
   "outputs": [
    {
     "data": {
      "image/png": "[encoded data removed]",
      "text/plain": [
       "<Figure size 432x288 with 1 Axes>"
      ]
     },
     "metadata": {},
     "output_type": "display_data"
    }
   ],
   "source": [
    "y_predict = np.round(y_pred)\n",
    "plt.scatter(x_tru,y_test,  color='black')\n",
    "plt.scatter(x_tru,y_predict, color='red')\n",
    "plt.title('Gradient Boosting')\n",
    "plt.ylabel('Price')\n",
    "plt.figtext(.65, .8 ,\"Predicted value = Red\",fontsize=10)\n",
    "plt.figtext(.65, .7, \"True value = Black\",fontsize=10)\n",
    "plt.show()"
   ]
  },
  {
   "cell_type": "code",
   "execution_count": null,
   "metadata": {},
   "outputs": [],
   "source": []
  }
 ],
 "metadata": {
  "kernelspec": {
   "display_name": "Python 3",
   "language": "python",
   "name": "python3"
  },
  "language_info": {
   "codemirror_mode": {
    "name": "ipython",
    "version": 3
   },
   "file_extension": ".py",
   "mimetype": "text/x-python",
   "name": "python",
   "nbconvert_exporter": "python",
   "pygments_lexer": "ipython3",
   "version": "3.6.5"
  }
 },
 "nbformat": 4,
 "nbformat_minor": 2
}
